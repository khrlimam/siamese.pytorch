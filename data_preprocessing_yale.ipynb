{
 "cells": [
  {
   "cell_type": "code",
   "execution_count": 35,
   "metadata": {},
   "outputs": [],
   "source": [
    "import pandas\n",
    "import pathlib\n",
    "import os\n",
    "from collections import defaultdict\n",
    "import shutil\n",
    "from random import shuffle"
   ]
  },
  {
   "cell_type": "code",
   "execution_count": 36,
   "metadata": {},
   "outputs": [],
   "source": [
    "def group_by_class(files):\n",
    "        classes = set(list(map(lambda x: x.parent.name, files)))\n",
    "        return {class_: list(filter(lambda x: x.parent.name == class_ and if_not_ambient(x.name) and if_not_copy(x.name) and if_not_tilde(x.name), files)) for class_ in classes}\n",
    "    \n",
    "def if_not_ambient(name):\n",
    "    return name[-11:] != 'Ambient.jpg'\n",
    "    \n",
    "def if_not_copy(name):\n",
    "    return name[-len('Copy.jpg'):] != 'Copy.jpg'\n",
    "\n",
    "def if_not_tilde(name):\n",
    "    return name[-6] != '~'"
   ]
  },
  {
   "cell_type": "code",
   "execution_count": 37,
   "metadata": {},
   "outputs": [],
   "source": [
    "path = pathlib.Path('./dataset/yale')\n",
    "files = sorted(list(path.glob(\"*/*.jpg\")))\n",
    "alldata = group_by_class(files)"
   ]
  },
  {
   "cell_type": "code",
   "execution_count": 38,
   "metadata": {},
   "outputs": [],
   "source": [
    "min_length = min(list(map(lambda x: len(alldata[x]), alldata)))"
   ]
  },
  {
   "cell_type": "code",
   "execution_count": 39,
   "metadata": {},
   "outputs": [
    {
     "data": {
      "text/plain": [
       "(17, 42)"
      ]
     },
     "execution_count": 39,
     "metadata": {},
     "output_type": "execute_result"
    }
   ],
   "source": [
    "def get_random_index(lenght=10, split_ratio=0.3):\n",
    "    x = [i for i in range(lenght)]\n",
    "    shuffle(x)\n",
    "    ratio = int(lenght*split_ratio)\n",
    "    return x[0:ratio], x[ratio:]\n",
    "    \n",
    "vidx, tidx = get_random_index(lenght=min_length, split_ratio=0.3)\n",
    "len(vidx), len(tidx)"
   ]
  },
  {
   "cell_type": "code",
   "execution_count": 40,
   "metadata": {},
   "outputs": [],
   "source": [
    "train = defaultdict(list)\n",
    "valid = defaultdict(list)\n",
    "\n",
    "split= 0.3\n",
    "for class_ in alldata.keys():\n",
    "    images = alldata[class_]\n",
    "    valid_index, train_index = get_random_index(lenght=min_length, split_ratio=split)\n",
    "    \n",
    "    for index in valid_index:\n",
    "        valid[class_].append(images[index])\n",
    "        \n",
    "    for index in train_index:\n",
    "        train[class_].append(images[index])"
   ]
  },
  {
   "cell_type": "code",
   "execution_count": 41,
   "metadata": {},
   "outputs": [],
   "source": [
    "base_dst = 'dataset/train/yale'\n",
    "for key in train.keys():\n",
    "    data_key = train[key]\n",
    "    for filez in data_key:\n",
    "        file = filez.name\n",
    "        dirz = filez.parent.name\n",
    "        dst_path = os.path.join(base_dst, dirz, file)\n",
    "        dst_dirz = os.path.join(base_dst, dirz)\n",
    "        os.makedirs(dst_dirz, exist_ok=True)\n",
    "        shutil.copy(str(filez), dst_path)\n",
    "        \n",
    "\n",
    "base_dst = 'dataset/valid/yale'\n",
    "for key in valid.keys():\n",
    "    data_key = valid[key]\n",
    "    for filez in data_key:\n",
    "        file = filez.name\n",
    "        dirz = filez.parent.name\n",
    "        dst_path = os.path.join(base_dst, dirz, file)\n",
    "        dst_dirz = os.path.join(base_dst, dirz)\n",
    "        os.makedirs(dst_dirz, exist_ok=True)\n",
    "        shutil.copy(str(filez), dst_path)\n",
    "        \n",
    "        \n"
   ]
  },
  {
   "cell_type": "code",
   "execution_count": 42,
   "metadata": {},
   "outputs": [],
   "source": [
    "# shutil.rmtree('dataset/train/yale')\n",
    "# shutil.rmtree('dataset/valid/yale')"
   ]
  }
 ],
 "metadata": {
  "kernelspec": {
   "display_name": "Python 3",
   "language": "python",
   "name": "python3"
  },
  "language_info": {
   "codemirror_mode": {
    "name": "ipython",
    "version": 3
   },
   "file_extension": ".py",
   "mimetype": "text/x-python",
   "name": "python",
   "nbconvert_exporter": "python",
   "pygments_lexer": "ipython3",
   "version": "3.7.1"
  }
 },
 "nbformat": 4,
 "nbformat_minor": 2
}
