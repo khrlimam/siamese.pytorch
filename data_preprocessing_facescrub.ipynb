{
 "cells": [
  {
   "cell_type": "code",
   "execution_count": 32,
   "metadata": {},
   "outputs": [],
   "source": [
    "import pandas\n",
    "import matplotlib.pyplot as plt\n",
    "import pathlib\n",
    "from collections import Counter\n",
    "import numpy as np\n",
    "import matplotlib.pyplot as plt\n",
    "import pandas\n",
    "import pathlib\n",
    "from PIL import Image\n",
    "import multitasking\n",
    "import wget\n",
    "import os\n",
    "import random\n",
    "from random import shuffle\n",
    "from collections import defaultdict\n",
    "import shutil"
   ]
  },
  {
   "cell_type": "code",
   "execution_count": 5,
   "metadata": {},
   "outputs": [],
   "source": [
    "PARENT_DIR = \"dataset/facescrub\""
   ]
  },
  {
   "cell_type": "code",
   "execution_count": 6,
   "metadata": {},
   "outputs": [
    {
     "data": {
      "text/plain": [
       "(10428, 6018, 4410)"
      ]
     },
     "execution_count": 6,
     "metadata": {},
     "output_type": "execute_result"
    }
   ],
   "source": [
    "files = list(pathlib.Path(PARENT_DIR).glob(\"*/*/*.*\"))\n",
    "actors = list(pathlib.Path(F'{PARENT_DIR}/actors').glob(\"*/*.*\"))\n",
    "actresses = list(pathlib.Path(F'{PARENT_DIR}/actresses').glob(\"*/*.*\"))\n",
    "len(files), len(actors), len(actresses)"
   ]
  },
  {
   "cell_type": "code",
   "execution_count": 7,
   "metadata": {},
   "outputs": [],
   "source": [
    "file_classes = list(map(lambda i: i.parent.name, files))\n",
    "class_names = set(file_classes)"
   ]
  },
  {
   "cell_type": "code",
   "execution_count": 30,
   "metadata": {},
   "outputs": [
    {
     "data": {
      "text/plain": [
       "(3, 7)"
      ]
     },
     "execution_count": 30,
     "metadata": {},
     "output_type": "execute_result"
    }
   ],
   "source": [
    "def group(glob_paths):\n",
    "    return {x: list(filter(lambda y: y.parent.name == x, glob_paths)) for x in class_names}\n",
    "\n",
    "def get_random_index(lenght=10, split_ratio=0.3):\n",
    "    x = [i for i in range(lenght)]\n",
    "    shuffle(x)\n",
    "    ratio = int(lenght*split_ratio)\n",
    "    return x[0:ratio], x[ratio:]\n",
    "\n",
    "\n",
    "def copy_to(grouped, base_dst):\n",
    "    for key in grouped.keys():\n",
    "        data_key = grouped[key]\n",
    "        for filez in data_key:\n",
    "            file = filez.name\n",
    "            dirz = filez.parent.name\n",
    "            dst_path = os.path.join(base_dst, dirz, file)\n",
    "            dst_dirz = os.path.join(base_dst, dirz)\n",
    "            os.makedirs(dst_dirz, exist_ok=True)\n",
    "            shutil.copy(str(filez), dst_path)\n",
    "        \n",
    "\n",
    "    \n",
    "vidx, tidx = get_random_index(lenght=10, split_ratio=0.3)\n",
    "len(vidx), len(tidx)"
   ]
  },
  {
   "cell_type": "code",
   "execution_count": 9,
   "metadata": {},
   "outputs": [],
   "source": [
    "class_file_counter = Counter(file_classes)\n",
    "class_counter = np.array(list(class_file_counter.values()))\n",
    "class_counter_df = pandas.DataFrame.from_records(list(class_file_counter.items()), columns=['class', 'count'])"
   ]
  },
  {
   "cell_type": "code",
   "execution_count": 14,
   "metadata": {},
   "outputs": [],
   "source": [
    "q1, q3 = np.percentile(class_counter, [25, 75])\n",
    "median = class_counter_df['count'].median()\n",
    "iqr = q3-q1\n",
    "lower_bound = q1 -(1.5 * iqr) \n",
    "upper_bound = q3 +(1.5 * iqr) \n",
    "\n",
    "countlessthanmedian = class_counter_df[class_counter_df['count'] < median]\n",
    "countlessthanq1 = class_counter_df[class_counter_df['count'] < q1]\n",
    "countlessthaniqr = class_counter_df[class_counter_df['count'] < iqr]\n",
    "\n",
    "outliers = list(filter(lambda i: not (lower_bound < i < upper_bound), class_counter))"
   ]
  },
  {
   "cell_type": "markdown",
   "metadata": {},
   "source": [
    "### Resume JPG only cropped faces"
   ]
  },
  {
   "cell_type": "code",
   "execution_count": 16,
   "metadata": {},
   "outputs": [
    {
     "name": "stdout",
     "output_type": "stream",
     "text": [
      "lower_bound(35.125), outliers(), upperbound(182.125)\n",
      "Total (10428) with actors(6018) and actresses(4410)\n",
      "Total size\n",
      "148M\tdataset/facescrub/\n",
      "Total class(98)\n",
      "Total class which file counts lower than quartile 1 (Q1 = 90.25) is 25, with aggregate:\n"
     ]
    },
    {
     "data": {
      "text/html": [
       "<div>\n",
       "<style scoped>\n",
       "    .dataframe tbody tr th:only-of-type {\n",
       "        vertical-align: middle;\n",
       "    }\n",
       "\n",
       "    .dataframe tbody tr th {\n",
       "        vertical-align: top;\n",
       "    }\n",
       "\n",
       "    .dataframe thead th {\n",
       "        text-align: right;\n",
       "    }\n",
       "</style>\n",
       "<table border=\"1\" class=\"dataframe\">\n",
       "  <thead>\n",
       "    <tr style=\"text-align: right;\">\n",
       "      <th></th>\n",
       "      <th>count</th>\n",
       "    </tr>\n",
       "  </thead>\n",
       "  <tbody>\n",
       "    <tr>\n",
       "      <th>count</th>\n",
       "      <td>25.000000</td>\n",
       "    </tr>\n",
       "    <tr>\n",
       "      <th>mean</th>\n",
       "      <td>68.640000</td>\n",
       "    </tr>\n",
       "    <tr>\n",
       "      <th>std</th>\n",
       "      <td>17.399425</td>\n",
       "    </tr>\n",
       "    <tr>\n",
       "      <th>min</th>\n",
       "      <td>36.000000</td>\n",
       "    </tr>\n",
       "    <tr>\n",
       "      <th>25%</th>\n",
       "      <td>54.000000</td>\n",
       "    </tr>\n",
       "    <tr>\n",
       "      <th>50%</th>\n",
       "      <td>75.000000</td>\n",
       "    </tr>\n",
       "    <tr>\n",
       "      <th>75%</th>\n",
       "      <td>83.000000</td>\n",
       "    </tr>\n",
       "    <tr>\n",
       "      <th>max</th>\n",
       "      <td>90.000000</td>\n",
       "    </tr>\n",
       "  </tbody>\n",
       "</table>\n",
       "</div>"
      ],
      "text/plain": [
       "           count\n",
       "count  25.000000\n",
       "mean   68.640000\n",
       "std    17.399425\n",
       "min    36.000000\n",
       "25%    54.000000\n",
       "50%    75.000000\n",
       "75%    83.000000\n",
       "max    90.000000"
      ]
     },
     "execution_count": 16,
     "metadata": {},
     "output_type": "execute_result"
    },
    {
     "data": {
      "image/png": "[encoded data removed]",
      "text/plain": [
       "<Figure size 432x288 with 1 Axes>"
      ]
     },
     "metadata": {
      "needs_background": "light"
     },
     "output_type": "display_data"
    }
   ],
   "source": [
    "green_diamond = dict(markerfacecolor='g', marker='D')\n",
    "fig3, ax3 = plt.subplots()\n",
    "ax3.set_title('Class Counter - length outlier')\n",
    "ax3.boxplot(class_counter, flierprops=green_diamond, notch=True, vert=False)\n",
    "print(f'lower_bound({lower_bound}),', f'outliers({\", \".join(map(str, outliers))}),', f'upperbound({upper_bound})')\n",
    "print(f'Total ({len(actors)+len(actresses)}) with actors({len(actors)}) and actresses({len(actresses)})')\n",
    "print(\"Total size\")\n",
    "!du -sh dataset/facescrub/\n",
    "print(f\"Total class({len(class_names)})\")\n",
    "print(f\"Total class which file counts lower than quartile 1 (Q1 = {q1}) is {len(countlessthanq1)}, with aggregate:\")\n",
    "countlessthanq1.describe()"
   ]
  },
  {
   "cell_type": "markdown",
   "metadata": {},
   "source": [
    "# Crop images"
   ]
  },
  {
   "cell_type": "code",
   "execution_count": 17,
   "metadata": {},
   "outputs": [
    {
     "data": {
      "image/png": "[encoded data removed]",
      "text/plain": [
       "<PIL.JpegImagePlugin.JpegImageFile image mode=RGB size=139x139 at 0x7F65E6C7F550>"
      ]
     },
     "execution_count": 17,
     "metadata": {},
     "output_type": "execute_result"
    }
   ],
   "source": [
    "filename = random.choice(files)\n",
    "Image.open(filename)"
   ]
  },
  {
   "cell_type": "code",
   "execution_count": 18,
   "metadata": {},
   "outputs": [],
   "source": [
    "grouped = group(files)"
   ]
  },
  {
   "cell_type": "code",
   "execution_count": 28,
   "metadata": {},
   "outputs": [],
   "source": [
    "train = defaultdict(list)\n",
    "valid = defaultdict(list)\n",
    "\n",
    "split= 0.3\n",
    "for class_ in grouped.keys():\n",
    "    images = grouped[class_]\n",
    "    valid_index, train_index = get_random_index(lenght=len(images), split_ratio=split)\n",
    "    \n",
    "    for index in valid_index:\n",
    "        valid[class_].append(images[index])\n",
    "        \n",
    "    for index in train_index:\n",
    "        train[class_].append(images[index])"
   ]
  },
  {
   "cell_type": "code",
   "execution_count": 33,
   "metadata": {},
   "outputs": [],
   "source": [
    "copy_to(train, 'dataset/train/facescrub')\n",
    "copy_to(valid, 'dataset/valid/facescrub')"
   ]
  }
 ],
 "metadata": {
  "kernelspec": {
   "display_name": "Python 3",
   "language": "python",
   "name": "python3"
  },
  "language_info": {
   "codemirror_mode": {
    "name": "ipython",
    "version": 3
   },
   "file_extension": ".py",
   "mimetype": "text/x-python",
   "name": "python",
   "nbconvert_exporter": "python",
   "pygments_lexer": "ipython3",
   "version": "3.7.1"
  }
 },
 "nbformat": 4,
 "nbformat_minor": 2
}
